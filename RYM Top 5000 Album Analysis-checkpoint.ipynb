{
 "cells": [
  {
   "cell_type": "code",
   "execution_count": 8,
   "id": "db04c932",
   "metadata": {},
   "outputs": [
    {
     "name": "stdout",
     "output_type": "stream",
     "text": [
      "      Unnamed: 0  position                       release_name  \\\n",
      "0              1         1                        OK Computer   \n",
      "1              2         2                              Kid A   \n",
      "2              3         3          The Dark Side of the Moon   \n",
      "3              4         4                           Loveless   \n",
      "4              5         5  My Beautiful Dark Twisted Fantasy   \n",
      "...          ...       ...                                ...   \n",
      "4995        4996      4996                              Copia   \n",
      "4996        4997      4997   Let Mortal Heroes Sing Your Fame   \n",
      "4997        4998      4998                     Dangerous Days   \n",
      "4998        4999      4999                     Third Ear Band   \n",
      "4999        5000      5000                          The Album   \n",
      "\n",
      "              artist_name release_date release_type  \\\n",
      "0               Radiohead   1997-06-16        album   \n",
      "1               Radiohead   2000-10-03        album   \n",
      "2              Pink Floyd   1973-03-23        album   \n",
      "3     My Bloody Valentine   1991-11-11        album   \n",
      "4              Kanye West   2010-11-22        album   \n",
      "...                   ...          ...          ...   \n",
      "4995              Eluvium   2007-02-20        album   \n",
      "4996            Summoning   2001-10-31        album   \n",
      "4997          Perturbator   2014-06-17        album   \n",
      "4998       Third Ear Band   1970-06-01        album   \n",
      "4999                 ABBA   1977-12-12        album   \n",
      "\n",
      "                                      primary_genres  \\\n",
      "0                         Alternative Rock, Art Rock   \n",
      "1            Art Rock, Experimental Rock, Electronic   \n",
      "2                         Art Rock, Progressive Rock   \n",
      "3                                Shoegaze, Noise Pop   \n",
      "4                                   Pop Rap, Hip Hop   \n",
      "...                                              ...   \n",
      "4995                                         Ambient   \n",
      "4996  Atmospheric Black Metal, Symphonic Black Metal   \n",
      "4997              Darksynth, Horror Synth, Synthwave   \n",
      "4998                     Progressive Folk, Free Folk   \n",
      "4999                            Pop, Progressive Pop   \n",
      "\n",
      "                       secondary_genres  \\\n",
      "0                                   NaN   \n",
      "1              Ambient, Electronic, IDM   \n",
      "2          Psychedelic Rock, Space Rock   \n",
      "3            Dream Pop, Neo-Psychedelia   \n",
      "4                               Art Pop   \n",
      "...                                 ...   \n",
      "4995  Modern Classical, Post-Minimalism   \n",
      "4996                      Dungeon Synth   \n",
      "4997                 Electro-Industrial   \n",
      "4998          Drone, Free Improvisation   \n",
      "4999                  Europop, Pop Rock   \n",
      "\n",
      "                                            descriptors  avg_rating  \\\n",
      "0     melancholic, anxious, futuristic, malevocals, ...        4.24   \n",
      "1     cold, melancholic, futuristic, anxious, atmosp...        4.23   \n",
      "2     philosophical, atmospheric, introspective, exi...        4.21   \n",
      "3     noisy, ethereal, atmospheric, romantic, love, ...        4.24   \n",
      "4     epic, boastful, passionate, sampling, hedonist...        4.09   \n",
      "...                                                 ...         ...   \n",
      "4995  instrumental, atmospheric, bittersweet, sentim...        3.44   \n",
      "4996  fantasy, epic, triumphant, melodic, atmospheri...        3.73   \n",
      "4997  futuristic, ominous, sciencefiction, atmospher...        3.50   \n",
      "4998  instrumental, ritualistic, hypnotic, atmospher...        3.63   \n",
      "4999  femalevocals, melodic, playful, uplifting, rom...        3.55   \n",
      "\n",
      "      rating_count  review_count  \n",
      "0            74027          1541  \n",
      "1            61658           751  \n",
      "2            60192          1557  \n",
      "3            53174          1264  \n",
      "4            52149           638  \n",
      "...            ...           ...  \n",
      "4995          2171            63  \n",
      "4996          2170            20  \n",
      "4997          2170            21  \n",
      "4998          2169            39  \n",
      "4999          2169            51  \n",
      "\n",
      "[5000 rows x 12 columns]\n"
     ]
    }
   ],
   "source": [
    "#Importing data from Excel\n",
    "import pandas as pd\n",
    "import matplotlib.pyplot as plt\n",
    "\n",
    "df = pd.read_excel (r'Documents\\Album_Ratings.xlsx')\n",
    "print (df)\n"
   ]
  },
  {
   "cell_type": "code",
   "execution_count": 29,
   "id": "a23e4508",
   "metadata": {},
   "outputs": [
    {
     "data": {
      "text/plain": [
       "Index(['Unnamed: 0', 'position', 'release_name', 'artist_name', 'release_date',\n",
       "       'release_type', 'primary_genres', 'secondary_genres', 'descriptors',\n",
       "       'avg_rating', 'rating_count', 'review_count'],\n",
       "      dtype='object')"
      ]
     },
     "execution_count": 29,
     "metadata": {},
     "output_type": "execute_result"
    }
   ],
   "source": [
    "# Return the columns names\n",
    "# Unnamed: 0: Count of the columns. Not much use as is a direct duplicate of the second column\n",
    "# position: The rank of the album based on rating_count\n",
    "# release_name: Name of the album\n",
    "# artist_name: Name of the artist who released the album\n",
    "# release_date: Date the album was released\n",
    "# release_type: The media type. This is always \"album\"\n",
    "# primary_genres: The genres of music the album consists of\n",
    "# secondary_genres: Any subgenres of music the album consists of\n",
    "# descriptors: Themes & concepts that the album is based on\n",
    "# avg_rating: The average rating that the album was given across all ratings\n",
    "# rating_count: Total times the album has been rated\n",
    "# review_count: Total times the album has been reviewed\n",
    "df.columns"
   ]
  },
  {
   "cell_type": "code",
   "execution_count": 28,
   "id": "62caeffb",
   "metadata": {},
   "outputs": [
    {
     "name": "stdout",
     "output_type": "stream",
     "text": [
      "<class 'pandas.core.frame.DataFrame'>\n",
      "RangeIndex: 5000 entries, 0 to 4999\n",
      "Data columns (total 12 columns):\n",
      " #   Column            Non-Null Count  Dtype         \n",
      "---  ------            --------------  -----         \n",
      " 0   Unnamed: 0        5000 non-null   int64         \n",
      " 1   position          5000 non-null   int64         \n",
      " 2   release_name      5000 non-null   object        \n",
      " 3   artist_name       5000 non-null   object        \n",
      " 4   release_date      5000 non-null   datetime64[ns]\n",
      " 5   release_type      5000 non-null   object        \n",
      " 6   primary_genres    4999 non-null   object        \n",
      " 7   secondary_genres  4505 non-null   object        \n",
      " 8   descriptors       5000 non-null   object        \n",
      " 9   avg_rating        5000 non-null   float64       \n",
      " 10  rating_count      5000 non-null   int64         \n",
      " 11  review_count      5000 non-null   int64         \n",
      "dtypes: datetime64[ns](1), float64(1), int64(4), object(6)\n",
      "memory usage: 468.9+ KB\n"
     ]
    }
   ],
   "source": [
    "# 5000 total rows, 12 columns\n",
    "# Rows 1 & 2 appear to be duplicates relating to the rank of the albums and are objects\n",
    "# Not much missing data. primary_genres is missing one record while secondary_genres is missing 495 records\n",
    "df.info()"
   ]
  },
  {
   "cell_type": "code",
   "execution_count": 27,
   "id": "3823e73e",
   "metadata": {},
   "outputs": [
    {
     "data": {
      "text/html": [
       "<div>\n",
       "<style scoped>\n",
       "    .dataframe tbody tr th:only-of-type {\n",
       "        vertical-align: middle;\n",
       "    }\n",
       "\n",
       "    .dataframe tbody tr th {\n",
       "        vertical-align: top;\n",
       "    }\n",
       "\n",
       "    .dataframe thead th {\n",
       "        text-align: right;\n",
       "    }\n",
       "</style>\n",
       "<table border=\"1\" class=\"dataframe\">\n",
       "  <thead>\n",
       "    <tr style=\"text-align: right;\">\n",
       "      <th></th>\n",
       "      <th>Unnamed: 0</th>\n",
       "      <th>position</th>\n",
       "      <th>release_name</th>\n",
       "      <th>artist_name</th>\n",
       "      <th>release_date</th>\n",
       "      <th>release_type</th>\n",
       "      <th>primary_genres</th>\n",
       "      <th>secondary_genres</th>\n",
       "      <th>descriptors</th>\n",
       "      <th>avg_rating</th>\n",
       "      <th>rating_count</th>\n",
       "      <th>review_count</th>\n",
       "    </tr>\n",
       "  </thead>\n",
       "  <tbody>\n",
       "    <tr>\n",
       "      <th>0</th>\n",
       "      <td>1</td>\n",
       "      <td>1</td>\n",
       "      <td>OK Computer</td>\n",
       "      <td>Radiohead</td>\n",
       "      <td>1997-06-16</td>\n",
       "      <td>album</td>\n",
       "      <td>Alternative Rock, Art Rock</td>\n",
       "      <td>NaN</td>\n",
       "      <td>melancholic, anxious, futuristic, malevocals, ...</td>\n",
       "      <td>4.24</td>\n",
       "      <td>74027</td>\n",
       "      <td>1541</td>\n",
       "    </tr>\n",
       "    <tr>\n",
       "      <th>1</th>\n",
       "      <td>2</td>\n",
       "      <td>2</td>\n",
       "      <td>Kid A</td>\n",
       "      <td>Radiohead</td>\n",
       "      <td>2000-10-03</td>\n",
       "      <td>album</td>\n",
       "      <td>Art Rock, Experimental Rock, Electronic</td>\n",
       "      <td>Ambient, Electronic, IDM</td>\n",
       "      <td>cold, melancholic, futuristic, anxious, atmosp...</td>\n",
       "      <td>4.23</td>\n",
       "      <td>61658</td>\n",
       "      <td>751</td>\n",
       "    </tr>\n",
       "    <tr>\n",
       "      <th>2</th>\n",
       "      <td>3</td>\n",
       "      <td>3</td>\n",
       "      <td>The Dark Side of the Moon</td>\n",
       "      <td>Pink Floyd</td>\n",
       "      <td>1973-03-23</td>\n",
       "      <td>album</td>\n",
       "      <td>Art Rock, Progressive Rock</td>\n",
       "      <td>Psychedelic Rock, Space Rock</td>\n",
       "      <td>philosophical, atmospheric, introspective, exi...</td>\n",
       "      <td>4.21</td>\n",
       "      <td>60192</td>\n",
       "      <td>1557</td>\n",
       "    </tr>\n",
       "    <tr>\n",
       "      <th>3</th>\n",
       "      <td>4</td>\n",
       "      <td>4</td>\n",
       "      <td>Loveless</td>\n",
       "      <td>My Bloody Valentine</td>\n",
       "      <td>1991-11-11</td>\n",
       "      <td>album</td>\n",
       "      <td>Shoegaze, Noise Pop</td>\n",
       "      <td>Dream Pop, Neo-Psychedelia</td>\n",
       "      <td>noisy, ethereal, atmospheric, romantic, love, ...</td>\n",
       "      <td>4.24</td>\n",
       "      <td>53174</td>\n",
       "      <td>1264</td>\n",
       "    </tr>\n",
       "    <tr>\n",
       "      <th>4</th>\n",
       "      <td>5</td>\n",
       "      <td>5</td>\n",
       "      <td>My Beautiful Dark Twisted Fantasy</td>\n",
       "      <td>Kanye West</td>\n",
       "      <td>2010-11-22</td>\n",
       "      <td>album</td>\n",
       "      <td>Pop Rap, Hip Hop</td>\n",
       "      <td>Art Pop</td>\n",
       "      <td>epic, boastful, passionate, sampling, hedonist...</td>\n",
       "      <td>4.09</td>\n",
       "      <td>52149</td>\n",
       "      <td>638</td>\n",
       "    </tr>\n",
       "  </tbody>\n",
       "</table>\n",
       "</div>"
      ],
      "text/plain": [
       "   Unnamed: 0  position                       release_name  \\\n",
       "0           1         1                        OK Computer   \n",
       "1           2         2                              Kid A   \n",
       "2           3         3          The Dark Side of the Moon   \n",
       "3           4         4                           Loveless   \n",
       "4           5         5  My Beautiful Dark Twisted Fantasy   \n",
       "\n",
       "           artist_name release_date release_type  \\\n",
       "0            Radiohead   1997-06-16        album   \n",
       "1            Radiohead   2000-10-03        album   \n",
       "2           Pink Floyd   1973-03-23        album   \n",
       "3  My Bloody Valentine   1991-11-11        album   \n",
       "4           Kanye West   2010-11-22        album   \n",
       "\n",
       "                            primary_genres              secondary_genres  \\\n",
       "0               Alternative Rock, Art Rock                           NaN   \n",
       "1  Art Rock, Experimental Rock, Electronic      Ambient, Electronic, IDM   \n",
       "2               Art Rock, Progressive Rock  Psychedelic Rock, Space Rock   \n",
       "3                      Shoegaze, Noise Pop    Dream Pop, Neo-Psychedelia   \n",
       "4                         Pop Rap, Hip Hop                       Art Pop   \n",
       "\n",
       "                                         descriptors  avg_rating  \\\n",
       "0  melancholic, anxious, futuristic, malevocals, ...        4.24   \n",
       "1  cold, melancholic, futuristic, anxious, atmosp...        4.23   \n",
       "2  philosophical, atmospheric, introspective, exi...        4.21   \n",
       "3  noisy, ethereal, atmospheric, romantic, love, ...        4.24   \n",
       "4  epic, boastful, passionate, sampling, hedonist...        4.09   \n",
       "\n",
       "   rating_count  review_count  \n",
       "0         74027          1541  \n",
       "1         61658           751  \n",
       "2         60192          1557  \n",
       "3         53174          1264  \n",
       "4         52149           638  "
      ]
     },
     "execution_count": 27,
     "metadata": {},
     "output_type": "execute_result"
    }
   ],
   "source": [
    "# First 5 rows returned\n",
    "df.head()"
   ]
  },
  {
   "cell_type": "code",
   "execution_count": 67,
   "id": "17507aa5",
   "metadata": {},
   "outputs": [
    {
     "data": {
      "text/plain": [
       "Unnamed: 0          5000\n",
       "position            5000\n",
       "release_name        4938\n",
       "artist_name         2090\n",
       "release_date        3271\n",
       "release_type           1\n",
       "primary_genres      2245\n",
       "secondary_genres    3371\n",
       "descriptors         4997\n",
       "avg_rating           244\n",
       "rating_count        3552\n",
       "review_count         443\n",
       "dtype: int64"
      ]
     },
     "execution_count": 67,
     "metadata": {},
     "output_type": "execute_result"
    }
   ],
   "source": [
    "# Returns the number of unique records in each column\n",
    "# There are 2090 different artists who make up the 5000 records\n",
    "# There are 4938 unique realease_name which suggests that some albums in the list have the same name\n",
    "df.nunique()"
   ]
  },
  {
   "cell_type": "code",
   "execution_count": 31,
   "id": "ee777811",
   "metadata": {},
   "outputs": [],
   "source": [
    "# make a copy of the dataset\n",
    "albums_df = df.copy()"
   ]
  },
  {
   "cell_type": "code",
   "execution_count": 68,
   "id": "f4ded045",
   "metadata": {},
   "outputs": [],
   "source": [
    "# Adding a name, \"rank\" to the first column that was previously unnamed\n",
    "albums_df_allnamed = albums_df.rename(columns={'Unnamed: 0': 'rank'})"
   ]
  },
  {
   "cell_type": "code",
   "execution_count": 69,
   "id": "4948febe",
   "metadata": {},
   "outputs": [
    {
     "data": {
      "text/plain": [
       "Index(['rank', 'position', 'release_name', 'artist_name', 'release_date',\n",
       "       'release_type', 'primary_genres', 'secondary_genres', 'descriptors',\n",
       "       'avg_rating', 'rating_count', 'review_count'],\n",
       "      dtype='object')"
      ]
     },
     "execution_count": 69,
     "metadata": {},
     "output_type": "execute_result"
    }
   ],
   "source": [
    "# The first column is now renamed as rank\n",
    "albums_df_allnamed.columns"
   ]
  },
  {
   "cell_type": "code",
   "execution_count": 70,
   "id": "2d1f9782",
   "metadata": {},
   "outputs": [],
   "source": [
    "# Make a copy of the dataset\n",
    "albums_df_removecol = albums_df_allnamed\n"
   ]
  },
  {
   "cell_type": "code",
   "execution_count": 71,
   "id": "e90cd23a",
   "metadata": {},
   "outputs": [],
   "source": [
    "# As the columns rank & position are essentially the same, we are going to remove the position column\n",
    "del albums_df_removecol[\"position\"]"
   ]
  },
  {
   "cell_type": "code",
   "execution_count": 72,
   "id": "f7b8b735",
   "metadata": {},
   "outputs": [
    {
     "data": {
      "text/plain": [
       "Index(['rank', 'release_name', 'artist_name', 'release_date', 'release_type',\n",
       "       'primary_genres', 'secondary_genres', 'descriptors', 'avg_rating',\n",
       "       'rating_count', 'review_count'],\n",
       "      dtype='object')"
      ]
     },
     "execution_count": 72,
     "metadata": {},
     "output_type": "execute_result"
    }
   ],
   "source": [
    "# position column now removed\n",
    "albums_df_removecol.columns"
   ]
  },
  {
   "cell_type": "code",
   "execution_count": null,
   "id": "bfcfc1cc",
   "metadata": {},
   "outputs": [],
   "source": []
  }
 ],
 "metadata": {
  "kernelspec": {
   "display_name": "Python 3 (ipykernel)",
   "language": "python",
   "name": "python3"
  },
  "language_info": {
   "codemirror_mode": {
    "name": "ipython",
    "version": 3
   },
   "file_extension": ".py",
   "mimetype": "text/x-python",
   "name": "python",
   "nbconvert_exporter": "python",
   "pygments_lexer": "ipython3",
   "version": "3.9.7"
  }
 },
 "nbformat": 4,
 "nbformat_minor": 5
}
